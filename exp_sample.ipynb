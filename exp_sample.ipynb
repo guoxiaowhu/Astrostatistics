{
 "cells": [
  {
   "cell_type": "code",
   "execution_count": 4,
   "metadata": {
    "collapsed": false
   },
   "outputs": [
    {
     "name": "stdout",
     "output_type": "stream",
     "text": [
      "0.0419304792654\n"
     ]
    },
    {
     "data": {
      "image/png": "[encoded data removed]",
      "text/plain": [
       "<matplotlib.figure.Figure at 0x1176d7a10>"
      ]
     },
     "metadata": {},
     "output_type": "display_data"
    }
   ],
   "source": [
    "#draw random sample from an exponential PDF\n",
    "%matplotlib inline\n",
    "import numpy as np\n",
    "import matplotlib.pyplot as plt\n",
    "import matplotlib\n",
    "matplotlib.rc('xtick', labelsize=12) \n",
    "matplotlib.rc('ytick', labelsize=12) \n",
    "\n",
    "#parameter of the exponential density\n",
    "h = 0.2\n",
    "\n",
    "#define the density function\n",
    "def exponential(x,h):\n",
    "    return 1./h*np.exp(-x/h)\n",
    "\n",
    "#draw 1000 random samples\n",
    "N = 1000\n",
    "\n",
    "#rejection sampling\n",
    "i = 0\n",
    "k = 0\n",
    "x = np.zeros((N,1))\n",
    "while i<N:\n",
    "    x0 = np.random.uniform(0,5.)\n",
    "    y0 = np.random.rand()/h\n",
    "    y1 = exponential(x0,h)\n",
    "    if y0<=y1:\n",
    "        x[i] = x0\n",
    "        i += 1\n",
    "    k += 1\n",
    "\n",
    "# analyze the samples in histogram\n",
    "xgrid = np.arange(0,5,0.1)\n",
    "xcenter = (xgrid[0:-1]+xgrid[1:])/2.\n",
    "hx,xedge = np.histogram(x,xgrid)\n",
    "\n",
    "#calculate the density function analytically\n",
    "y = exponential(xcenter,h)\n",
    "\n",
    "#draw histogram and compare with the analytic density curve\n",
    "fig = plt.figure(figsize=[10,5])\n",
    "ax = fig.add_subplot(111)\n",
    "ax.plot(xcenter,hx,'ko')\n",
    "ax.plot(xcenter,y/np.sum(y)*sum(hx),'r--')\n",
    "fig.show()\n",
    "\n",
    "print N/np.float(k)"
   ]
  },
  {
   "cell_type": "code",
   "execution_count": null,
   "metadata": {
    "collapsed": true
   },
   "outputs": [],
   "source": []
  }
 ],
 "metadata": {
  "kernelspec": {
   "display_name": "Python 2",
   "language": "python",
   "name": "python2"
  },
  "language_info": {
   "codemirror_mode": {
    "name": "ipython",
    "version": 2
   },
   "file_extension": ".py",
   "mimetype": "text/x-python",
   "name": "python",
   "nbconvert_exporter": "python",
   "pygments_lexer": "ipython2",
   "version": "2.7.13"
  }
 },
 "nbformat": 4,
 "nbformat_minor": 2
}
